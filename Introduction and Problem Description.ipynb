{
 "cells": [
  {
   "cell_type": "markdown",
   "metadata": {
    "collapsed": true
   },
   "source": [
    "# Capstone Project - Battle Of Neighborhoods"
   ]
  },
  {
   "cell_type": "markdown",
   "metadata": {},
   "source": [
    "## Introduction"
   ]
  },
  {
   "cell_type": "markdown",
   "metadata": {},
   "source": [
    "Toronto is the provincial capital of Ontario and is considered the commercial capital of Canada.Toronto is an international centre of business, finance, arts, and culture, and is recognized as one of the most multicultural and cosmopolitan cities in the world.The diverse population of Toronto reflects its current and historical role as an important destination for immigrants to Canada. More than 50 percent of residents belong to a visible minority population group and over 200 distinct ethnic origins are represented among its inhabitants. (_source:Wikipedia_)\n",
    "\n",
    "The cuisine of Toronto reflects Toronto's size and multicultural diversity. Numerous other world cuisines are available throughout the city, including Portuguese, Hungarian, Japanese, and Caribbean. In addition to ethnic cuisines, Toronto is also home to many fine dining establishments and chain restaurants ranging from fast food to casual or upscale dining. (_source:Wikipedia_)\n",
    "\n",
    "As a part of this project, we will explore the neighborhoods of Toronto, we will research and visualize the areas that has great Indian restaurants."
   ]
  },
  {
   "cell_type": "markdown",
   "metadata": {},
   "source": [
    "## Background and Description of the Problem"
   ]
  },
  {
   "cell_type": "markdown",
   "metadata": {},
   "source": [
    "For somebody trying to immigrate to Canada from India, there are multiple things to consider before the migration. The first thing that would make somebody homesick is the food in the area. This is true for many Indians trying to immigrate to a different country. Toronto is a home to multi-cultural cuisines and has many Indian restaurants. The challenge is to identify the best among those restaurants and the areas where they are concentrated.\n",
    "\n",
    "This is one of the problems, we will try to address in this project.\n",
    "\n",
    "Other questions that can be asked from the Analysis-\n",
    "- Which is the best place to stay if I prefer Indian Cuisine?\n",
    "- What is the best location in Toronto for Indian Cuisine? \n",
    "- Which areas lack Indian Restaurants and have potential for an new Indian Restaurant? "
   ]
  },
  {
   "cell_type": "code",
   "execution_count": null,
   "metadata": {},
   "outputs": [],
   "source": []
  }
 ],
 "metadata": {
  "kernelspec": {
   "display_name": "Python 3.6",
   "language": "python",
   "name": "python3"
  },
  "language_info": {
   "codemirror_mode": {
    "name": "ipython",
    "version": 3
   },
   "file_extension": ".py",
   "mimetype": "text/x-python",
   "name": "python",
   "nbconvert_exporter": "python",
   "pygments_lexer": "ipython3",
   "version": "3.6.8"
  }
 },
 "nbformat": 4,
 "nbformat_minor": 1
}
